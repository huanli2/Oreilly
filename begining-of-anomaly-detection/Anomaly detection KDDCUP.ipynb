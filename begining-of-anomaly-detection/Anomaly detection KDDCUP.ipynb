{
 "cells": [
  {
   "cell_type": "code",
   "execution_count": 12,
   "metadata": {},
   "outputs": [],
   "source": [
    "import numpy as np\n",
    "import pandas as pd\n",
    "import matplotlib.pyplot as plt\n",
    "from sklearn.ensemble import IsolationForest\n",
    "from sklearn.preprocessing import LabelEncoder\n",
    "\n",
    "%matplotlib inline\n",
    "\n",
    "columns = [\"duration\", \"protocol_type\", \"service\", \"flag\", \n",
    "          \"src_bytes\", \"dst_bytes\", \"land\", \"wrong_fragment\",\n",
    "          \"urgent\", \"hot\", \"num_failed_logins\", \"logged_in\",\n",
    "          \"num_compromised\", \"root_shell\", \"su_attempted\",\n",
    "          \"num_root\", \"num_file_creations\", \"num_shells\", \n",
    "          \"num_access_files\", \"num_outbound_cmds\", \"is_host_login\",\n",
    "          \"is_guest_login\", \"count\", \"srv_count\", \"serror_rate\",\n",
    "          \"srv_serror_rate\", \"rerror_rate\", \"srv_rerror_rate\",\n",
    "          \"same_srv_rate\", \"diff_srv_rate\", \"srv_diff_host_rate\",\n",
    "          \"dst_host_count\", \"dst_host_srv_count\", \"dst_host_same_srv_rate\",\n",
    "          \"dst_host_diff_srv_rate\", \"dst_host_same_src_port_rate\",\n",
    "          \"dst_host_srv_diff_host_rate\", \"dst_host_serror_rate\",\n",
    "          \"dst_host_srv_serror_rate\", \"dst_host_rerror_rate\", \n",
    "           \"dst_host_srv_rerror_rate\", \"label\"]\n",
    "\n",
    "# http://kdd.ics.uci.edu/databases/kddcup99/kddcup99.html\n",
    "# kddcup.data.gz The full data set (18M; 743M Uncompressed)\n",
    "df = pd.read_csv(\"./data/kddcup.data\", sep=\",\", names=columns, index_col=None)\n"
   ]
  },
  {
   "cell_type": "code",
   "execution_count": 13,
   "metadata": {},
   "outputs": [
    {
     "data": {
      "text/plain": [
       "(4898431, 42)"
      ]
     },
     "execution_count": 13,
     "metadata": {},
     "output_type": "execute_result"
    }
   ],
   "source": [
    "df.shape"
   ]
  },
  {
   "cell_type": "code",
   "execution_count": 14,
   "metadata": {},
   "outputs": [],
   "source": [
    "df = df[df[\"service\"] == \"http\"]\n",
    "df = df.drop(\"service\", axis=1)\n",
    "columns.remove(\"service\")"
   ]
  },
  {
   "cell_type": "code",
   "execution_count": 17,
   "metadata": {},
   "outputs": [
    {
     "data": {
      "text/plain": [
       "(623091, 41)"
      ]
     },
     "execution_count": 17,
     "metadata": {},
     "output_type": "execute_result"
    }
   ],
   "source": [
    "df.shape"
   ]
  },
  {
   "cell_type": "code",
   "execution_count": null,
   "metadata": {},
   "outputs": [],
   "source": []
  }
 ],
 "metadata": {
  "kernelspec": {
   "display_name": "Python 3",
   "language": "python",
   "name": "python3"
  },
  "language_info": {
   "codemirror_mode": {
    "name": "ipython",
    "version": 3
   },
   "file_extension": ".py",
   "mimetype": "text/x-python",
   "name": "python",
   "nbconvert_exporter": "python",
   "pygments_lexer": "ipython3",
   "version": "3.6.4"
  }
 },
 "nbformat": 4,
 "nbformat_minor": 2
}
