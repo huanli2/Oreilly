{
 "cells": [
  {
   "cell_type": "code",
   "execution_count": 46,
   "metadata": {},
   "outputs": [],
   "source": [
    "import tensorflow as tf\n",
    "import keras\n",
    "from keras.datasets import mnist\n",
    "from tensorflow.keras import backend as K\n",
    "import numpy as np"
   ]
  },
  {
   "cell_type": "code",
   "execution_count": 18,
   "metadata": {},
   "outputs": [],
   "source": [
    "# One pass of the entire data set through the model is called an epoch\n",
    "# The batch size is how many data entries pass through the model in one iteration\n",
    "# The number of classes is 10 to represent each of the 10 digits from 0-9\n",
    "# These variables are also known as hyperparameters, parameters that are set before the training process\n",
    "\n",
    "batch_size = 128\n",
    "n_classes = 10\n",
    "n_epochs = 15\n",
    "\n",
    "im_row, im_col = 28, 28"
   ]
  },
  {
   "cell_type": "code",
   "execution_count": 27,
   "metadata": {},
   "outputs": [],
   "source": [
    "(x_train, y_train), (x_test, y_test) = mnist.load_data()"
   ]
  },
  {
   "cell_type": "code",
   "execution_count": 20,
   "metadata": {},
   "outputs": [
    {
     "data": {
      "image/png": "[encoded data removed]",
      "text/plain": [
       "<Figure size 432x288 with 1 Axes>"
      ]
     },
     "metadata": {},
     "output_type": "display_data"
    }
   ],
   "source": [
    "import matplotlib.pyplot as plt\n",
    "\n",
    "%matplotlib inline\n",
    "\n",
    "plt.imshow(x_train[1], cmap='gray')\n",
    "plt.show()"
   ]
  },
  {
   "cell_type": "code",
   "execution_count": 22,
   "metadata": {},
   "outputs": [
    {
     "data": {
      "image/png": "[encoded data removed]",
      "text/plain": [
       "<Figure size 1080x720 with 10 Axes>"
      ]
     },
     "metadata": {},
     "output_type": "display_data"
    }
   ],
   "source": [
    "# Just looking at 10 examples of the digit 1, you can see there is plenty of variation in the data set\n",
    "fig = plt.figure(figsize=(15, 10))\n",
    "\n",
    "i = 0\n",
    "for f in range(0, y_train.shape[0]):\n",
    "    if (y_train[f] == 1 and i < 10):\n",
    "        plt.subplot(2, 5, i + 1)\n",
    "        plt.imshow(x_train[f], cmap='gray')\n",
    "        plt.xticks([])\n",
    "        plt.yticks([])\n",
    "        i = i + 1\n",
    "\n",
    "plt.show()"
   ]
  },
  {
   "cell_type": "code",
   "execution_count": 23,
   "metadata": {},
   "outputs": [
    {
     "name": "stdout",
     "output_type": "stream",
     "text": [
      "x_train: (60000, 28, 28)\n",
      "x_test: (10000, 28, 28)\n",
      "\n"
     ]
    }
   ],
   "source": [
    "print(\"x_train: {}\\nx_test: {}\\n\".format(x_train.shape, x_test.shape))"
   ]
  },
  {
   "cell_type": "code",
   "execution_count": 28,
   "metadata": {},
   "outputs": [],
   "source": [
    "# In this case, it’s grey scale, so you don’t have to worry about the channel variable, but the following code will account for both cases if you end up using a data set with color \n",
    "if K.image_data_format() == 'channels_first':\n",
    "    x_train = x_train.reshape(x_train.shape[0], 1, im_row, im_col)\n",
    "    x_test = x_test.reshape(x_test.shape[0], 1, im_row, im_col)\n",
    "    input_shape = (1, im_row, im_col)\n",
    "    \n",
    "else:\n",
    "    x_train = x_train.reshape(x_train.shape[0], im_row, im_col, 1)\n",
    "    x_test = x_test.reshape(x_test.shape[0], im_row, im_col, 1)\n",
    "    input_shape = (im_row, im_col, 1)\n"
   ]
  },
  {
   "cell_type": "code",
   "execution_count": 29,
   "metadata": {},
   "outputs": [],
   "source": [
    "x_train = x_train.astype('float32')\n",
    "x_test = x_test.astype('float32')\n",
    "x_train /= 255\n",
    "x_test /= 255\n",
    "\n",
    "# What keras.utils.to_categorical() does is take the vector of classes and create a binary class matrix of the number of classes\n",
    "y_train = keras.utils.to_categorical(y_train, n_classes)\n",
    "y_test = keras.utils.to_categorical(y_test, n_classes)\n"
   ]
  },
  {
   "cell_type": "code",
   "execution_count": 35,
   "metadata": {},
   "outputs": [
    {
     "name": "stdout",
     "output_type": "stream",
     "text": [
      "x_train: (60000, 28, 28, 1)\n",
      "x_test: (10000, 28, 28, 1)\n",
      "input_shape: (28, 28, 1)\n",
      " # of training samples: 60000\n",
      "# of testing samples: 10000\n"
     ]
    }
   ],
   "source": [
    "print(\"x_train: {}\\nx_test: {}\\ninput_shape: {}\\n \\\n",
    "# of training samples: {}\\n# of testing samples: {}\"\n",
    "      .format(x_train.shape, \n",
    "              x_test.shape, \n",
    "              input_shape, x_train.shape[0],\n",
    "              x_test.shape[0]))"
   ]
  },
  {
   "cell_type": "code",
   "execution_count": 59,
   "metadata": {},
   "outputs": [
    {
     "name": "stdout",
     "output_type": "stream",
     "text": [
      "Model: \"sequential_12\"\n",
      "_________________________________________________________________\n",
      "Layer (type)                 Output Shape              Param #   \n",
      "=================================================================\n",
      "conv2d_15 (Conv2D)           (None, 26, 26, 32)        320       \n",
      "_________________________________________________________________\n",
      "conv2d_16 (Conv2D)           (None, 24, 24, 64)        18496     \n",
      "_________________________________________________________________\n",
      "max_pooling2d_7 (MaxPooling2 (None, 12, 12, 64)        0         \n",
      "_________________________________________________________________\n",
      "dropout_14 (Dropout)         (None, 12, 12, 64)        0         \n",
      "_________________________________________________________________\n",
      "flatten_7 (Flatten)          (None, 9216)              0         \n",
      "_________________________________________________________________\n",
      "dense_14 (Dense)             (None, 128)               1179776   \n",
      "_________________________________________________________________\n",
      "dropout_15 (Dropout)         (None, 128)               0         \n",
      "_________________________________________________________________\n",
      "dense_15 (Dense)             (None, 10)                1290      \n",
      "=================================================================\n",
      "Total params: 1,199,882\n",
      "Trainable params: 1,199,882\n",
      "Non-trainable params: 0\n",
      "_________________________________________________________________\n"
     ]
    }
   ],
   "source": [
    "# In Keras, the sequential model is a stack of layers. The Conv2D is a two-dimensional convolutional layer.\n",
    "\n",
    "# In convolutional neural networks, a convolution layer filters through the data and multiplies each of the values element-wise by the weights in the filter and sums them up to generate one value. In this case, it’s a 3x3 filter that slides over each of the pixels to generate a smaller layer called an activation map or feature map . This feature map then has another filter applied to it in the second convolutional layer to generate another, smaller feature map. The weights that are optimized during backpropagation are found in the filter.\n",
    "# rectified linear unit (ReLU) y = max(0, x)\n",
    "\n",
    "model = tf.keras.Sequential()\n",
    "\n",
    "model.add(tf.keras.layers.Conv2D(32, kernel_size=(3, 3), \n",
    "                activation='relu',\n",
    "                input_shape=input_shape))\n",
    "model.add(tf.keras.layers.Conv2D(64, (3, 3), activation='relu'))\n",
    "model.add(tf.keras.layers.MaxPooling2D(pool_size=(2, 2)))\n",
    "model.add(tf.keras.layers.Dropout(0.25))\n",
    "model.add(tf.keras.layers.Flatten())\n",
    "model.add(tf.keras.layers.Dense(128, activation='relu'))\n",
    "model.add(tf.keras.layers.Dropout(0.5))\n",
    "model.add(tf.keras.layers.Dense(n_classes, activation='softmax'))\n",
    "\n",
    "model.compile(loss=tf.keras.losses.categorical_crossentropy, optimizer=tf.keras.optimizers.Adam(), metrics=['accuracy'])\n",
    "\n",
    "# Note how it tells you the output shapes of each layer and the number of parameters; this can be useful when creating custom models and finding out that there is a mismatch between the dimensionality of what a layer expects and what it actually receives\n",
    "model.summary()"
   ]
  },
  {
   "cell_type": "code",
   "execution_count": 65,
   "metadata": {},
   "outputs": [
    {
     "name": "stdout",
     "output_type": "stream",
     "text": [
      "Train on 60000 samples, validate on 10000 samples\n",
      "Epoch 1/15\n",
      "WARNING:tensorflow:Entity <function Function._initialize_uninitialized_variables.<locals>.initialize_variables at 0x1841685730> could not be transformed and will be executed as-is. Please report this to the AutoGraph team. When filing the bug, set the verbosity to 10 (on Linux, `export AUTOGRAPH_VERBOSITY=10`) and attach the full output. Cause: Unable to locate the source code of <function Function._initialize_uninitialized_variables.<locals>.initialize_variables at 0x1841685730>. Note that functions defined in certain environments, like the interactive Python shell do not expose their source code. If that is the case, you should to define them in a .py source file. If you are certain the code is graph-compatible, wrap the call using @tf.autograph.do_not_convert. Original error: could not get source code\n",
      "WARNING: Entity <function Function._initialize_uninitialized_variables.<locals>.initialize_variables at 0x1841685730> could not be transformed and will be executed as-is. Please report this to the AutoGraph team. When filing the bug, set the verbosity to 10 (on Linux, `export AUTOGRAPH_VERBOSITY=10`) and attach the full output. Cause: Unable to locate the source code of <function Function._initialize_uninitialized_variables.<locals>.initialize_variables at 0x1841685730>. Note that functions defined in certain environments, like the interactive Python shell do not expose their source code. If that is the case, you should to define them in a .py source file. If you are certain the code is graph-compatible, wrap the call using @tf.autograph.do_not_convert. Original error: could not get source code\n",
      "60000/60000 [==============================] - 75s 1ms/sample - loss: 0.2409 - accuracy: 0.9264 - val_loss: 0.0534 - val_accuracy: 0.9814\n",
      "Epoch 2/15\n",
      "60000/60000 [==============================] - 78s 1ms/sample - loss: 0.0829 - accuracy: 0.9759 - val_loss: 0.0382 - val_accuracy: 0.9877\n",
      "Epoch 3/15\n",
      "60000/60000 [==============================] - 78s 1ms/sample - loss: 0.0626 - accuracy: 0.9811 - val_loss: 0.0328 - val_accuracy: 0.9893\n",
      "Epoch 4/15\n",
      "60000/60000 [==============================] - 73s 1ms/sample - loss: 0.0497 - accuracy: 0.9842 - val_loss: 0.0316 - val_accuracy: 0.9895\n",
      "Epoch 5/15\n",
      "60000/60000 [==============================] - 70s 1ms/sample - loss: 0.0417 - accuracy: 0.9868 - val_loss: 0.0325 - val_accuracy: 0.9892\n",
      "Epoch 6/15\n",
      "60000/60000 [==============================] - 71s 1ms/sample - loss: 0.0380 - accuracy: 0.9877 - val_loss: 0.0277 - val_accuracy: 0.9915\n",
      "Epoch 7/15\n",
      "60000/60000 [==============================] - 72s 1ms/sample - loss: 0.0318 - accuracy: 0.9896 - val_loss: 0.0304 - val_accuracy: 0.9909\n",
      "Epoch 8/15\n",
      "60000/60000 [==============================] - 77s 1ms/sample - loss: 0.0298 - accuracy: 0.9902 - val_loss: 0.0270 - val_accuracy: 0.9919\n",
      "Epoch 9/15\n",
      "60000/60000 [==============================] - 71s 1ms/sample - loss: 0.0263 - accuracy: 0.9917 - val_loss: 0.0293 - val_accuracy: 0.9909\n",
      "Epoch 10/15\n",
      "60000/60000 [==============================] - 73s 1ms/sample - loss: 0.0228 - accuracy: 0.9925 - val_loss: 0.0279 - val_accuracy: 0.9922\n",
      "Epoch 11/15\n",
      "60000/60000 [==============================] - 73s 1ms/sample - loss: 0.0230 - accuracy: 0.9925 - val_loss: 0.0260 - val_accuracy: 0.9921\n",
      "Epoch 12/15\n",
      "60000/60000 [==============================] - 74s 1ms/sample - loss: 0.0216 - accuracy: 0.9925 - val_loss: 0.0264 - val_accuracy: 0.9924\n",
      "Epoch 13/15\n",
      "60000/60000 [==============================] - 74s 1ms/sample - loss: 0.0187 - accuracy: 0.9938 - val_loss: 0.0258 - val_accuracy: 0.9926\n",
      "Epoch 14/15\n",
      "60000/60000 [==============================] - 69s 1ms/sample - loss: 0.0187 - accuracy: 0.9938 - val_loss: 0.0278 - val_accuracy: 0.9926\n",
      "Epoch 15/15\n",
      "60000/60000 [==============================] - 69s 1ms/sample - loss: 0.0174 - accuracy: 0.9941 - val_loss: 0.0295 - val_accuracy: 0.9919\n",
      "Test loss:  0.029451084418415804\n",
      "Test accuracy:  0.9919\n"
     ]
    }
   ],
   "source": [
    "# The variable checkpoint will store the model in the same folder as this code with the name keras_MNIST_CNN.h5\n",
    "checkpoint = tf.keras.callbacks.ModelCheckpoint(filepath=\"keras_MNIST_CNN.h5\", \n",
    "                            verbose=0,\n",
    "                            save_best_only=True)\n",
    "model.fit(x_train, y_train, \n",
    "          batch_size=batch_size, \n",
    "          epochs=n_epochs, \n",
    "          verbose=1,\n",
    "          validation_data=(x_test, y_test),\n",
    "          callbacks=[checkpoint])\n",
    "\n",
    "score = model.evaluate(x_test, y_test, verbose=0)\n",
    "print(\"Test loss: \", score[0])\n",
    "print(\"Test accuracy: \", score[1])\n"
   ]
  },
  {
   "cell_type": "code",
   "execution_count": 66,
   "metadata": {},
   "outputs": [
    {
     "name": "stdout",
     "output_type": "stream",
     "text": [
      "AUC: 99.58%\n"
     ]
    }
   ],
   "source": [
    "from sklearn.metrics import roc_auc_score\n",
    "\n",
    "preds = model.predict(x_test)\n",
    "auc = roc_auc_score(np.round(preds), y_test)\n",
    "print(\"AUC: {:.2%}\".format(auc))"
   ]
  },
  {
   "cell_type": "code",
   "execution_count": 70,
   "metadata": {},
   "outputs": [
    {
     "data": {
      "image/png": "[encoded data removed]",
      "text/plain": [
       "<Figure size 1080x720 with 3 Axes>"
      ]
     },
     "metadata": {},
     "output_type": "display_data"
    }
   ],
   "source": [
    "# generate graphs of what the images look like at various stages of the model\n",
    "layers = [layer.output for layer in model.layers[:4]]\n",
    "model_layers = tf.keras.models.Model(inputs=model.input, outputs=layers)\n",
    "activations = model_layers.predict(x_train)\n",
    "\n",
    "fig = plt.figure(figsize=(15, 10))\n",
    "\n",
    "plt.subplot(1, 3, 1)\n",
    "plt.title(\"Original\")\n",
    "plt.imshow(x_train[7].reshape(28, 28), cmap='gray')\n",
    "plt.xticks([])\n",
    "plt.yticks([])\n",
    "\n",
    "for f in range(1, 3):\n",
    "    plt.subplot(1, 3, f + 1)\n",
    "    plt.title(\"Convolutional layer %s\" % f)\n",
    "    plt.imshow(activations[f][7, :, :, 0], cmap='gray')\n",
    "    plt.xticks([])\n",
    "    plt.yticks([])\n",
    "\n",
    "plt.show()"
   ]
  },
  {
   "cell_type": "code",
   "execution_count": null,
   "metadata": {},
   "outputs": [],
   "source": []
  }
 ],
 "metadata": {
  "kernelspec": {
   "display_name": "Python 3",
   "language": "python",
   "name": "python3"
  },
  "language_info": {
   "codemirror_mode": {
    "name": "ipython",
    "version": 3
   },
   "file_extension": ".py",
   "mimetype": "text/x-python",
   "name": "python",
   "nbconvert_exporter": "python",
   "pygments_lexer": "ipython3",
   "version": "3.6.4"
  }
 },
 "nbformat": 4,
 "nbformat_minor": 2
}
