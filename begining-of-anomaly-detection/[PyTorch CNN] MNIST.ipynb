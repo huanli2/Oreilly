{
 "cells": [
  {
   "cell_type": "code",
   "execution_count": 2,
   "metadata": {},
   "outputs": [],
   "source": [
    "import torch\n",
    "import torch.nn as nn\n",
    "import torchvision\n",
    "import torchvision.transforms as transforms\n",
    "import torch.optim as optim\n",
    "import torch.nn.functional as F\n",
    "import numpy as np\n",
    "\n",
    "# If cuda device exist, use that\n",
    "device = torch.device('cuda:0' if torch.cuda.is_available() else 'cpu')\n",
    "\n"
   ]
  },
  {
   "cell_type": "code",
   "execution_count": 3,
   "metadata": {},
   "outputs": [],
   "source": [
    "num_epochs = 15\n",
    "num_classes = 10\n",
    "batch_size = 128\n",
    "learning_rate = 0.001"
   ]
  },
  {
   "cell_type": "code",
   "execution_count": 19,
   "metadata": {},
   "outputs": [],
   "source": [
    "train_dataset = torchvision.datasets.MNIST(root='../../data/', train=True, transform=transforms.ToTensor(), download=True)\n",
    "test_dataset = torchvision.datasets.MNIST(root='../../data/', train=False, transform=transforms.ToTensor())\n",
    "\n",
    "train_loader=torch.utils.data.DataLoader(dataset=train_dataset, batch_size=batch_size, shuffle=True)\n",
    "test_loader=torch.utils.data.DataLoader(dataset=test_dataset, batch_size=batch_size, shuffle=False)\n"
   ]
  },
  {
   "cell_type": "code",
   "execution_count": 16,
   "metadata": {},
   "outputs": [],
   "source": [
    "class CNN(nn.Module):\n",
    "    def __init__(self):\n",
    "        super(CNN, self).__init__()\n",
    "        self.conv1 = nn.Conv2d(1, 32, 3, 1)\n",
    "        self.conv2 = nn.Conv2d(32, 64, 3, 1)\n",
    "        self.dense1 = nn.Linear(12 * 12 * 64, 128)\n",
    "        self.dense2 = nn.Linear(128, num_classes)\n",
    "        \n",
    "    def forward(self, x):\n",
    "        x = F.relu(self.conv1(x))\n",
    "        x = F.relu(self.conv2(x))\n",
    "        x = F.max_pool2d(x, 2, 2)\n",
    "        x = F.dropout(x, 0.25)\n",
    "        x = x.view(-1, 12 * 12 * 64)\n",
    "        x = F.relu(self.dense1(x))\n",
    "        x = F.dropout(x, 0.5)\n",
    "        x = self.dense2(x)\n",
    "        \n",
    "        return F.log_softmax(x, dim=1)\n"
   ]
  },
  {
   "cell_type": "code",
   "execution_count": 17,
   "metadata": {},
   "outputs": [
    {
     "name": "stdout",
     "output_type": "stream",
     "text": [
      "Epoch [1 /15], step [100 /469], Loss: 0.3781\n",
      "Epoch [1 /15], step [200 /469], Loss: 0.1335\n",
      "Epoch [1 /15], step [300 /469], Loss: 0.3456\n",
      "Epoch [1 /15], step [400 /469], Loss: 0.0988\n",
      "Epoch [2 /15], step [100 /469], Loss: 0.0483\n",
      "Epoch [2 /15], step [200 /469], Loss: 0.0725\n",
      "Epoch [2 /15], step [300 /469], Loss: 0.0441\n",
      "Epoch [2 /15], step [400 /469], Loss: 0.0413\n",
      "Epoch [3 /15], step [100 /469], Loss: 0.0592\n",
      "Epoch [3 /15], step [200 /469], Loss: 0.0559\n",
      "Epoch [3 /15], step [300 /469], Loss: 0.1108\n",
      "Epoch [3 /15], step [400 /469], Loss: 0.0588\n",
      "Epoch [4 /15], step [100 /469], Loss: 0.0509\n",
      "Epoch [4 /15], step [200 /469], Loss: 0.0547\n",
      "Epoch [4 /15], step [300 /469], Loss: 0.0307\n",
      "Epoch [4 /15], step [400 /469], Loss: 0.0508\n",
      "Epoch [5 /15], step [100 /469], Loss: 0.0517\n",
      "Epoch [5 /15], step [200 /469], Loss: 0.0372\n",
      "Epoch [5 /15], step [300 /469], Loss: 0.0489\n",
      "Epoch [5 /15], step [400 /469], Loss: 0.0494\n",
      "Epoch [6 /15], step [100 /469], Loss: 0.0298\n",
      "Epoch [6 /15], step [200 /469], Loss: 0.0327\n",
      "Epoch [6 /15], step [300 /469], Loss: 0.0825\n",
      "Epoch [6 /15], step [400 /469], Loss: 0.0233\n",
      "Epoch [7 /15], step [100 /469], Loss: 0.0666\n",
      "Epoch [7 /15], step [200 /469], Loss: 0.0474\n",
      "Epoch [7 /15], step [300 /469], Loss: 0.0183\n",
      "Epoch [7 /15], step [400 /469], Loss: 0.0526\n",
      "Epoch [8 /15], step [100 /469], Loss: 0.0322\n",
      "Epoch [8 /15], step [200 /469], Loss: 0.0529\n",
      "Epoch [8 /15], step [300 /469], Loss: 0.0310\n",
      "Epoch [8 /15], step [400 /469], Loss: 0.0112\n",
      "Epoch [9 /15], step [100 /469], Loss: 0.0441\n",
      "Epoch [9 /15], step [200 /469], Loss: 0.0068\n",
      "Epoch [9 /15], step [300 /469], Loss: 0.0494\n",
      "Epoch [9 /15], step [400 /469], Loss: 0.0141\n",
      "Epoch [10 /15], step [100 /469], Loss: 0.0073\n",
      "Epoch [10 /15], step [200 /469], Loss: 0.0497\n",
      "Epoch [10 /15], step [300 /469], Loss: 0.0343\n",
      "Epoch [10 /15], step [400 /469], Loss: 0.0272\n",
      "Epoch [11 /15], step [100 /469], Loss: 0.0393\n",
      "Epoch [11 /15], step [200 /469], Loss: 0.0097\n",
      "Epoch [11 /15], step [300 /469], Loss: 0.0169\n",
      "Epoch [11 /15], step [400 /469], Loss: 0.0133\n",
      "Epoch [12 /15], step [100 /469], Loss: 0.0200\n",
      "Epoch [12 /15], step [200 /469], Loss: 0.0547\n",
      "Epoch [12 /15], step [300 /469], Loss: 0.0203\n",
      "Epoch [12 /15], step [400 /469], Loss: 0.0430\n",
      "Epoch [13 /15], step [100 /469], Loss: 0.0065\n",
      "Epoch [13 /15], step [200 /469], Loss: 0.0154\n",
      "Epoch [13 /15], step [300 /469], Loss: 0.0068\n",
      "Epoch [13 /15], step [400 /469], Loss: 0.0024\n",
      "Epoch [14 /15], step [100 /469], Loss: 0.0249\n",
      "Epoch [14 /15], step [200 /469], Loss: 0.0399\n",
      "Epoch [14 /15], step [300 /469], Loss: 0.0378\n",
      "Epoch [14 /15], step [400 /469], Loss: 0.0090\n",
      "Epoch [15 /15], step [100 /469], Loss: 0.0421\n",
      "Epoch [15 /15], step [200 /469], Loss: 0.0748\n",
      "Epoch [15 /15], step [300 /469], Loss: 0.0144\n",
      "Epoch [15 /15], step [400 /469], Loss: 0.0433\n"
     ]
    }
   ],
   "source": [
    "model = CNN().to(device)\n",
    "\n",
    "criterion = nn.CrossEntropyLoss()\n",
    "optimizer = torch.optim.Adam(model.parameters(), lr=learning_rate)\n",
    "\n",
    "total_step = len(train_loader)\n",
    "for epoch in range(num_epochs):\n",
    "    for i, (images, labels) in enumerate(train_loader):\n",
    "        images = images.to(device)\n",
    "        labels = labels.to(device)\n",
    "        \n",
    "        # Forward pass\n",
    "        outputs = model(images)\n",
    "        loss = criterion(outputs, labels)\n",
    "        \n",
    "        # Backward and optimize\n",
    "        optimizer.zero_grad()\n",
    "        loss.backward()\n",
    "        optimizer.step()\n",
    "        \n",
    "        if (i + 1) % 100 == 0:\n",
    "            print('Epoch [{} /{}], step [{} /{}], Loss: {:.4f}'.format(epoch + 1, num_epochs, i + 1, total_step, loss.item()))\n",
    "            \n",
    "        "
   ]
  },
  {
   "cell_type": "code",
   "execution_count": 22,
   "metadata": {},
   "outputs": [
    {
     "name": "stdout",
     "output_type": "stream",
     "text": [
      "Test Accuracy of the model on the 10000 test images: 98.69%\n",
      "AUC: 99.27%\n"
     ]
    }
   ],
   "source": [
    "from sklearn.metrics import roc_auc_score\n",
    "\n",
    "preds = []\n",
    "y_true = []\n",
    "\n",
    "model.eval() # Set model to evaluation mode\n",
    "with torch.no_grad():\n",
    "    correct = 0\n",
    "    total = 0\n",
    "    for images, labels in test_loader:\n",
    "        images = images.to(device)\n",
    "        labels = labels.to(device)\n",
    "        outputs = model(images)\n",
    "        _, predicted = torch.max(outputs.data, 1)\n",
    "        \n",
    "        total += labels.size(0)\n",
    "        correct += (predicted == labels).sum().item()\n",
    "        \n",
    "        detached_pred = predicted.detach().cpu().numpy()\n",
    "        detached_label = labels.detach().cpu().numpy()\n",
    "        \n",
    "        for f in range(0, len(detached_pred)):\n",
    "            preds.append(detached_pred[f])\n",
    "            y_true.append(detached_label[f])\n",
    "            \n",
    "    print('Test Accuracy of the model on the 10000 test images: {:.2%}'.format(correct / total))\n",
    "        \n",
    "    preds = np.eye(num_classes)[preds]\n",
    "    y_true = np.eye(num_classes)[y_true]\n",
    "    auc = roc_auc_score(preds, y_true)\n",
    "    print(\"AUC: {:.2%}\".format(auc))\n",
    "        \n",
    "# Save the model checkpoint\n",
    "torch.save(model.state_dict(), 'pytorch_mnist_cnn.ckpt')"
   ]
  },
  {
   "cell_type": "code",
   "execution_count": null,
   "metadata": {},
   "outputs": [],
   "source": []
  }
 ],
 "metadata": {
  "kernelspec": {
   "display_name": "Python 3",
   "language": "python",
   "name": "python3"
  },
  "language_info": {
   "codemirror_mode": {
    "name": "ipython",
    "version": 3
   },
   "file_extension": ".py",
   "mimetype": "text/x-python",
   "name": "python",
   "nbconvert_exporter": "python",
   "pygments_lexer": "ipython3",
   "version": "3.6.4"
  }
 },
 "nbformat": 4,
 "nbformat_minor": 2
}
