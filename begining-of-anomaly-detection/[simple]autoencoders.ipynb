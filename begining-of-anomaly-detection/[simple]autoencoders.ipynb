{
 "cells": [
  {
   "cell_type": "code",
   "execution_count": 7,
   "metadata": {},
   "outputs": [
    {
     "name": "stdout",
     "output_type": "stream",
     "text": [
      "Python:  3.6.8 (default, Apr 25 2019, 21:02:35) \n",
      "[GCC 4.8.5 20150623 (Red Hat 4.8.5-36)]\n",
      "pandas:  0.25.1\n",
      "numpy:  1.17.2\n",
      "seaborn:  0.9.0\n",
      "matplotlib:  3.1.1\n",
      "sklearn:  0.20.4\n",
      "keras:  2.2.4\n",
      "tensorflow:  2.0.0\n"
     ]
    }
   ],
   "source": [
    "\n",
    "import tensorflow as tf\n",
    "\n",
    "import keras\n",
    "from tensorflow.keras import optimizers\n",
    "from tensorflow.keras import losses\n",
    "from tensorflow.keras.models import Sequential, Model\n",
    "from tensorflow.keras.layers import Dense, Input, Dropout, Embedding, LSTM\n",
    "from tensorflow.keras.optimizers import RMSprop, Adam, Nadam\n",
    "from tensorflow.keras.preprocessing import sequence\n",
    "from tensorflow.keras.callbacks import TensorBoard\n",
    "\n",
    "import sklearn\n",
    "from sklearn.preprocessing import StandardScaler\n",
    "from sklearn.model_selection import train_test_split\n",
    "from sklearn.metrics import confusion_matrix, roc_auc_score\n",
    "from sklearn.preprocessing import MinMaxScaler\n",
    "\n",
    "import seaborn as sns\n",
    "import pandas as pd\n",
    "import numpy as np\n",
    "import matplotlib\n",
    "\n",
    "import matplotlib.pyplot as plt\n",
    "import matplotlib.gridspec as gridspec\n",
    "\n",
    "%matplotlib inline\n",
    "\n",
    "import sys\n",
    "\n",
    "print(\"Python: \", sys.version)\n",
    "print(\"pandas: \", pd.__version__)\n",
    "print(\"numpy: \", np.__version__)\n",
    "print(\"seaborn: \", sns.__version__)\n",
    "print(\"matplotlib: \", matplotlib.__version__)\n",
    "print(\"sklearn: \", sklearn.__version__)\n",
    "print(\"keras: \", keras.__version__)\n",
    "print(\"tensorflow: \", tf.__version__)"
   ]
  },
  {
   "cell_type": "code",
   "execution_count": 8,
   "metadata": {},
   "outputs": [
    {
     "name": "stdout",
     "output_type": "stream",
     "text": [
      "(284807, 31)\n"
     ]
    },
    {
     "data": {
      "text/html": [
       "<div>\n",
       "<style scoped>\n",
       "    .dataframe tbody tr th:only-of-type {\n",
       "        vertical-align: middle;\n",
       "    }\n",
       "\n",
       "    .dataframe tbody tr th {\n",
       "        vertical-align: top;\n",
       "    }\n",
       "\n",
       "    .dataframe thead th {\n",
       "        text-align: right;\n",
       "    }\n",
       "</style>\n",
       "<table border=\"1\" class=\"dataframe\">\n",
       "  <thead>\n",
       "    <tr style=\"text-align: right;\">\n",
       "      <th></th>\n",
       "      <th>Time</th>\n",
       "      <th>V1</th>\n",
       "      <th>V2</th>\n",
       "      <th>V3</th>\n",
       "      <th>V4</th>\n",
       "      <th>V5</th>\n",
       "      <th>V6</th>\n",
       "      <th>V7</th>\n",
       "      <th>V8</th>\n",
       "      <th>V9</th>\n",
       "      <th>...</th>\n",
       "      <th>V21</th>\n",
       "      <th>V22</th>\n",
       "      <th>V23</th>\n",
       "      <th>V24</th>\n",
       "      <th>V25</th>\n",
       "      <th>V26</th>\n",
       "      <th>V27</th>\n",
       "      <th>V28</th>\n",
       "      <th>Amount</th>\n",
       "      <th>Class</th>\n",
       "    </tr>\n",
       "  </thead>\n",
       "  <tbody>\n",
       "    <tr>\n",
       "      <td>0</td>\n",
       "      <td>0.0</td>\n",
       "      <td>-1.359807</td>\n",
       "      <td>-0.072781</td>\n",
       "      <td>2.536347</td>\n",
       "      <td>1.378155</td>\n",
       "      <td>-0.338321</td>\n",
       "      <td>0.462388</td>\n",
       "      <td>0.239599</td>\n",
       "      <td>0.098698</td>\n",
       "      <td>0.363787</td>\n",
       "      <td>...</td>\n",
       "      <td>-0.018307</td>\n",
       "      <td>0.277838</td>\n",
       "      <td>-0.110474</td>\n",
       "      <td>0.066928</td>\n",
       "      <td>0.128539</td>\n",
       "      <td>-0.189115</td>\n",
       "      <td>0.133558</td>\n",
       "      <td>-0.021053</td>\n",
       "      <td>149.62</td>\n",
       "      <td>0</td>\n",
       "    </tr>\n",
       "    <tr>\n",
       "      <td>1</td>\n",
       "      <td>0.0</td>\n",
       "      <td>1.191857</td>\n",
       "      <td>0.266151</td>\n",
       "      <td>0.166480</td>\n",
       "      <td>0.448154</td>\n",
       "      <td>0.060018</td>\n",
       "      <td>-0.082361</td>\n",
       "      <td>-0.078803</td>\n",
       "      <td>0.085102</td>\n",
       "      <td>-0.255425</td>\n",
       "      <td>...</td>\n",
       "      <td>-0.225775</td>\n",
       "      <td>-0.638672</td>\n",
       "      <td>0.101288</td>\n",
       "      <td>-0.339846</td>\n",
       "      <td>0.167170</td>\n",
       "      <td>0.125895</td>\n",
       "      <td>-0.008983</td>\n",
       "      <td>0.014724</td>\n",
       "      <td>2.69</td>\n",
       "      <td>0</td>\n",
       "    </tr>\n",
       "    <tr>\n",
       "      <td>2</td>\n",
       "      <td>1.0</td>\n",
       "      <td>-1.358354</td>\n",
       "      <td>-1.340163</td>\n",
       "      <td>1.773209</td>\n",
       "      <td>0.379780</td>\n",
       "      <td>-0.503198</td>\n",
       "      <td>1.800499</td>\n",
       "      <td>0.791461</td>\n",
       "      <td>0.247676</td>\n",
       "      <td>-1.514654</td>\n",
       "      <td>...</td>\n",
       "      <td>0.247998</td>\n",
       "      <td>0.771679</td>\n",
       "      <td>0.909412</td>\n",
       "      <td>-0.689281</td>\n",
       "      <td>-0.327642</td>\n",
       "      <td>-0.139097</td>\n",
       "      <td>-0.055353</td>\n",
       "      <td>-0.059752</td>\n",
       "      <td>378.66</td>\n",
       "      <td>0</td>\n",
       "    </tr>\n",
       "    <tr>\n",
       "      <td>3</td>\n",
       "      <td>1.0</td>\n",
       "      <td>-0.966272</td>\n",
       "      <td>-0.185226</td>\n",
       "      <td>1.792993</td>\n",
       "      <td>-0.863291</td>\n",
       "      <td>-0.010309</td>\n",
       "      <td>1.247203</td>\n",
       "      <td>0.237609</td>\n",
       "      <td>0.377436</td>\n",
       "      <td>-1.387024</td>\n",
       "      <td>...</td>\n",
       "      <td>-0.108300</td>\n",
       "      <td>0.005274</td>\n",
       "      <td>-0.190321</td>\n",
       "      <td>-1.175575</td>\n",
       "      <td>0.647376</td>\n",
       "      <td>-0.221929</td>\n",
       "      <td>0.062723</td>\n",
       "      <td>0.061458</td>\n",
       "      <td>123.50</td>\n",
       "      <td>0</td>\n",
       "    </tr>\n",
       "    <tr>\n",
       "      <td>4</td>\n",
       "      <td>2.0</td>\n",
       "      <td>-1.158233</td>\n",
       "      <td>0.877737</td>\n",
       "      <td>1.548718</td>\n",
       "      <td>0.403034</td>\n",
       "      <td>-0.407193</td>\n",
       "      <td>0.095921</td>\n",
       "      <td>0.592941</td>\n",
       "      <td>-0.270533</td>\n",
       "      <td>0.817739</td>\n",
       "      <td>...</td>\n",
       "      <td>-0.009431</td>\n",
       "      <td>0.798278</td>\n",
       "      <td>-0.137458</td>\n",
       "      <td>0.141267</td>\n",
       "      <td>-0.206010</td>\n",
       "      <td>0.502292</td>\n",
       "      <td>0.219422</td>\n",
       "      <td>0.215153</td>\n",
       "      <td>69.99</td>\n",
       "      <td>0</td>\n",
       "    </tr>\n",
       "  </tbody>\n",
       "</table>\n",
       "<p>5 rows × 31 columns</p>\n",
       "</div>"
      ],
      "text/plain": [
       "   Time        V1        V2        V3        V4        V5        V6        V7  \\\n",
       "0   0.0 -1.359807 -0.072781  2.536347  1.378155 -0.338321  0.462388  0.239599   \n",
       "1   0.0  1.191857  0.266151  0.166480  0.448154  0.060018 -0.082361 -0.078803   \n",
       "2   1.0 -1.358354 -1.340163  1.773209  0.379780 -0.503198  1.800499  0.791461   \n",
       "3   1.0 -0.966272 -0.185226  1.792993 -0.863291 -0.010309  1.247203  0.237609   \n",
       "4   2.0 -1.158233  0.877737  1.548718  0.403034 -0.407193  0.095921  0.592941   \n",
       "\n",
       "         V8        V9  ...       V21       V22       V23       V24       V25  \\\n",
       "0  0.098698  0.363787  ... -0.018307  0.277838 -0.110474  0.066928  0.128539   \n",
       "1  0.085102 -0.255425  ... -0.225775 -0.638672  0.101288 -0.339846  0.167170   \n",
       "2  0.247676 -1.514654  ...  0.247998  0.771679  0.909412 -0.689281 -0.327642   \n",
       "3  0.377436 -1.387024  ... -0.108300  0.005274 -0.190321 -1.175575  0.647376   \n",
       "4 -0.270533  0.817739  ... -0.009431  0.798278 -0.137458  0.141267 -0.206010   \n",
       "\n",
       "        V26       V27       V28  Amount  Class  \n",
       "0 -0.189115  0.133558 -0.021053  149.62      0  \n",
       "1  0.125895 -0.008983  0.014724    2.69      0  \n",
       "2 -0.139097 -0.055353 -0.059752  378.66      0  \n",
       "3 -0.221929  0.062723  0.061458  123.50      0  \n",
       "4  0.502292  0.219422  0.215153   69.99      0  \n",
       "\n",
       "[5 rows x 31 columns]"
      ]
     },
     "execution_count": 8,
     "metadata": {},
     "output_type": "execute_result"
    }
   ],
   "source": [
    "# https://www.kaggle.com/mlg-ulb/creditcardfraud\n",
    "filepath= './data-sample/creditcard.csv'\n",
    "df = pd.read_csv(filepath_or_buffer=filepath, header=0, sep=\",\")\n",
    "print(df.shape)\n",
    "df.head()\n"
   ]
  },
  {
   "cell_type": "code",
   "execution_count": 9,
   "metadata": {},
   "outputs": [],
   "source": [
    "# You will collect 20k normal and 400 abnormal records. \n",
    "# You can pick different ratios to try, but in general more normal data examples are better because you want to teach your autoencoder what normal data looks like. \n",
    "# Too much abnormal data in training will train the autoencoder to learn that the anomalies are actually normal, which goes against your goal.\n",
    "\n",
    "df[\"Amount\"] = StandardScaler().fit_transform(df[\"Amount\"].values.reshape(-1, 1))\n",
    "\n",
    "df0 = df.query('Class == 0').sample(20000)\n",
    "df1 = df.query('Class == 1').sample(400)\n",
    "\n",
    "df = pd.concat([df0, df1])\n"
   ]
  },
  {
   "cell_type": "code",
   "execution_count": 10,
   "metadata": {},
   "outputs": [
    {
     "name": "stdout",
     "output_type": "stream",
     "text": [
      "(16320, 29) train samples\n",
      "(4080, 29) test samples\n"
     ]
    }
   ],
   "source": [
    "x_train, x_test, y_train, y_test = train_test_split(df.drop(labels=['Time', 'Class'], axis=1), df['Class'], test_size=0.2, random_state=42)\n",
    "\n",
    "print(x_train.shape, 'train samples')\n",
    "print(x_test.shape, 'test samples')"
   ]
  },
  {
   "cell_type": "code",
   "execution_count": 11,
   "metadata": {},
   "outputs": [
    {
     "name": "stdout",
     "output_type": "stream",
     "text": [
      "Model: \"model\"\n",
      "_________________________________________________________________\n",
      "Layer (type)                 Output Shape              Param #   \n",
      "=================================================================\n",
      "input_1 (InputLayer)         [(None, 29)]              0         \n",
      "_________________________________________________________________\n",
      "dense (Dense)                (None, 12)                360       \n",
      "_________________________________________________________________\n",
      "dense_1 (Dense)              (None, 29)                377       \n",
      "=================================================================\n",
      "Total params: 737\n",
      "Trainable params: 737\n",
      "Non-trainable params: 0\n",
      "_________________________________________________________________\n"
     ]
    }
   ],
   "source": [
    "# Now it’s time to create a simple neural network model with just an encoder and decoder layer\n",
    "# You will encode the 29 columns of the input credit card dataset into 12 features using the encoder.\n",
    "# The decoder expands the 12 back into the 29 features.\n",
    "\n",
    "# RELU, the Rectified Linear Unit, is the most commonly used activation function in deep learning models. The function returns 0 if it receives any negative input, \n",
    "# but for any positive value xx it returns that value back. \n",
    "# So it can be written as\n",
    "# f(x)=max(0,x).\n",
    "\n",
    "# Softmax, the Softmax function, outputs a vector that represents the probability distributions of a list of potential outcomes. The probabilities always add up to 1.\n",
    "\n",
    "# More functions could be found: \n",
    "#     https://keras.io/activations/\n",
    "\n",
    "encoding_dim = 12\n",
    "input_dim = x_train.shape[1]\n",
    "\n",
    "inputArray = Input(shape=(input_dim,))\n",
    "encoded = Dense(encoding_dim, activation='relu')(inputArray)\n",
    "\n",
    "decoded = Dense(input_dim, activation='softmax')(encoded)\n",
    "autoencoder = Model(inputArray, decoded)\n",
    "\n",
    "autoencoder.summary()"
   ]
  },
  {
   "cell_type": "code",
   "execution_count": 12,
   "metadata": {},
   "outputs": [],
   "source": [
    "# The RMSprop optimizer is similar to the gradient descent algorithm with momentum\n",
    "\n",
    "# A metric function is similar to a loss function, except that the results from evaluating a metric are not used when training the model\n",
    "# Loss functions could be found:\n",
    "#     https://keras.io/losses/\n",
    "\n",
    "autoencoder.compile(optimizer=RMSprop(), loss='mean_squared_error', metrics=['mae', 'accuracy'])\n"
   ]
  },
  {
   "cell_type": "code",
   "execution_count": 13,
   "metadata": {},
   "outputs": [
    {
     "name": "stdout",
     "output_type": "stream",
     "text": [
      "WARNING:tensorflow:Falling back from v2 loop because of error: Failed to find data adapter that can handle input: <class 'pandas.core.frame.DataFrame'>, <class 'NoneType'>\n",
      "Train on 16320 samples, validate on 4080 samples\n",
      "Epoch 1/20\n",
      "16320/16320 [==============================] - 1s 63us/sample - loss: 1.4869 - mae: 0.6800 - accuracy: 0.1672 - val_loss: 1.8036 - val_mae: 0.6882 - val_accuracy: 0.3824\n",
      "Epoch 2/20\n",
      "16320/16320 [==============================] - 1s 54us/sample - loss: 1.4251 - mae: 0.6590 - accuracy: 0.5140 - val_loss: 1.7612 - val_mae: 0.6746 - val_accuracy: 0.5985\n",
      "Epoch 3/20\n",
      "16320/16320 [==============================] - 1s 52us/sample - loss: 1.4047 - mae: 0.6531 - accuracy: 0.6248 - val_loss: 1.7541 - val_mae: 0.6728 - val_accuracy: 0.6485\n",
      "Epoch 4/20\n",
      "16320/16320 [==============================] - 1s 53us/sample - loss: 1.4004 - mae: 0.6523 - accuracy: 0.6744 - val_loss: 1.7515 - val_mae: 0.6723 - val_accuracy: 0.6971\n",
      "Epoch 5/20\n",
      "16320/16320 [==============================] - 1s 52us/sample - loss: 1.3985 - mae: 0.6519 - accuracy: 0.7080 - val_loss: 1.7501 - val_mae: 0.6720 - val_accuracy: 0.7189\n",
      "Epoch 6/20\n",
      "16320/16320 [==============================] - 1s 53us/sample - loss: 1.3974 - mae: 0.6517 - accuracy: 0.7209 - val_loss: 1.7493 - val_mae: 0.6719 - val_accuracy: 0.7311\n",
      "Epoch 7/20\n",
      "16320/16320 [==============================] - 1s 52us/sample - loss: 1.3969 - mae: 0.6515 - accuracy: 0.7298 - val_loss: 1.7489 - val_mae: 0.6718 - val_accuracy: 0.7373\n",
      "Epoch 8/20\n",
      "16320/16320 [==============================] - 1s 53us/sample - loss: 1.3965 - mae: 0.6515 - accuracy: 0.7363 - val_loss: 1.7485 - val_mae: 0.6717 - val_accuracy: 0.7461\n",
      "Epoch 9/20\n",
      "16320/16320 [==============================] - 1s 52us/sample - loss: 1.3962 - mae: 0.6514 - accuracy: 0.7427 - val_loss: 1.7482 - val_mae: 0.6716 - val_accuracy: 0.7520\n",
      "Epoch 10/20\n",
      "16320/16320 [==============================] - 1s 53us/sample - loss: 1.3959 - mae: 0.6514 - accuracy: 0.7488 - val_loss: 1.7479 - val_mae: 0.6716 - val_accuracy: 0.7578\n",
      "Epoch 11/20\n",
      "16320/16320 [==============================] - 1s 53us/sample - loss: 1.3957 - mae: 0.6513 - accuracy: 0.7557 - val_loss: 1.7477 - val_mae: 0.6716 - val_accuracy: 0.7630\n",
      "Epoch 12/20\n",
      "16320/16320 [==============================] - 1s 53us/sample - loss: 1.3955 - mae: 0.6513 - accuracy: 0.7615 - val_loss: 1.7476 - val_mae: 0.6716 - val_accuracy: 0.7664\n",
      "Epoch 13/20\n",
      "16320/16320 [==============================] - 1s 52us/sample - loss: 1.3953 - mae: 0.6513 - accuracy: 0.7651 - val_loss: 1.7474 - val_mae: 0.6716 - val_accuracy: 0.7691\n",
      "Epoch 14/20\n",
      "16320/16320 [==============================] - 1s 53us/sample - loss: 1.3951 - mae: 0.6513 - accuracy: 0.7687 - val_loss: 1.7472 - val_mae: 0.6716 - val_accuracy: 0.7716\n",
      "Epoch 15/20\n",
      "16320/16320 [==============================] - 1s 54us/sample - loss: 1.3949 - mae: 0.6513 - accuracy: 0.7715 - val_loss: 1.7470 - val_mae: 0.6716 - val_accuracy: 0.7755\n",
      "Epoch 16/20\n",
      "16320/16320 [==============================] - 1s 52us/sample - loss: 1.3947 - mae: 0.6513 - accuracy: 0.7760 - val_loss: 1.7469 - val_mae: 0.6716 - val_accuracy: 0.7760\n",
      "Epoch 17/20\n",
      "16320/16320 [==============================] - 1s 52us/sample - loss: 1.3945 - mae: 0.6513 - accuracy: 0.7810 - val_loss: 1.7467 - val_mae: 0.6716 - val_accuracy: 0.7804\n",
      "Epoch 18/20\n",
      "16320/16320 [==============================] - 1s 53us/sample - loss: 1.3943 - mae: 0.6513 - accuracy: 0.7857 - val_loss: 1.7466 - val_mae: 0.6715 - val_accuracy: 0.7838\n",
      "Epoch 19/20\n",
      "16320/16320 [==============================] - 1s 52us/sample - loss: 1.3942 - mae: 0.6512 - accuracy: 0.7860 - val_loss: 1.7465 - val_mae: 0.6715 - val_accuracy: 0.7858\n",
      "Epoch 20/20\n",
      "16320/16320 [==============================] - 1s 52us/sample - loss: 1.3941 - mae: 0.6512 - accuracy: 0.7900 - val_loss: 1.7464 - val_mae: 0.6715 - val_accuracy: 0.7846\n"
     ]
    }
   ],
   "source": [
    "batch_size = 32\n",
    "epochs = 20\n",
    "\n",
    "history = autoencoder.fit(x_train, x_train, \n",
    "                          batch_size=batch_size, \n",
    "                          epochs=epochs, \n",
    "                          verbose=1, \n",
    "                          shuffle=True, \n",
    "                          validation_data=(x_test, x_test),\n",
    "                          callbacks=[TensorBoard(log_dir='../logs/autoencoder1')])\n"
   ]
  },
  {
   "cell_type": "code",
   "execution_count": 14,
   "metadata": {},
   "outputs": [
    {
     "name": "stdout",
     "output_type": "stream",
     "text": [
      "WARNING:tensorflow:Falling back from v2 loop because of error: Failed to find data adapter that can handle input: <class 'pandas.core.frame.DataFrame'>, <class 'NoneType'>\n",
      "4080/4080 [==============================] - 0s 23us/sample - loss: 1.7464 - mae: 0.6715 - accuracy: 0.7846\n",
      "Test loss:  1.7464226404825847\n",
      "Test accuracy:  0.6714952\n"
     ]
    }
   ],
   "source": [
    "score = autoencoder.evaluate(x_test, x_test, verbose=1)\n",
    "\n",
    "print(\"Test loss: \", score[0])\n",
    "print(\"Test accuracy: \", score[1])\n"
   ]
  },
  {
   "cell_type": "code",
   "execution_count": 15,
   "metadata": {},
   "outputs": [
    {
     "name": "stdout",
     "output_type": "stream",
     "text": [
      "WARNING:tensorflow:Falling back from v2 loop because of error: Failed to find data adapter that can handle input: <class 'pandas.core.frame.DataFrame'>, <class 'NoneType'>\n"
     ]
    }
   ],
   "source": [
    "threshold=10.00\n",
    "y_pred = autoencoder.predict(x_test)\n",
    "y_dist = np.linalg.norm(x_test - y_pred, axis=-1)\n",
    "\n",
    "z = zip(y_dist >= threshold, y_dist)\n",
    "y_label = []\n",
    "error = []\n",
    "for idx, (is_anomaly, y_dist) in enumerate(z):\n",
    "    if is_anomaly:\n",
    "        y_label.append(1)\n",
    "    else:\n",
    "        y_label.append(0)\n",
    "        \n",
    "    error.append(y_dist)\n",
    "    "
   ]
  },
  {
   "cell_type": "code",
   "execution_count": 16,
   "metadata": {},
   "outputs": [
    {
     "name": "stdout",
     "output_type": "stream",
     "text": [
      "              precision    recall  f1-score   support\n",
      "\n",
      "           0       1.00      0.97      0.98      3987\n",
      "           1       0.43      0.88      0.58        93\n",
      "\n",
      "   micro avg       0.97      0.97      0.97      4080\n",
      "   macro avg       0.71      0.93      0.78      4080\n",
      "weighted avg       0.98      0.97      0.98      4080\n",
      "\n"
     ]
    }
   ],
   "source": [
    "from sklearn.metrics import classification_report\n",
    "\n",
    "print(classification_report(y_test, y_label))"
   ]
  },
  {
   "cell_type": "code",
   "execution_count": 17,
   "metadata": {},
   "outputs": [
    {
     "data": {
      "text/plain": [
       "0.9271907894204553"
      ]
     },
     "execution_count": 17,
     "metadata": {},
     "output_type": "execute_result"
    }
   ],
   "source": [
    "roc_auc_score(y_test, y_label)"
   ]
  },
  {
   "cell_type": "code",
   "execution_count": 18,
   "metadata": {},
   "outputs": [],
   "source": [
    "class Visualization:\n",
    "    labels = [\"Normal\", \"Anomaly\"]\n",
    "    \n",
    "    def draw_confusion_matrix(self, y, ypred):\n",
    "        matrix = confusion_matrix(y, ypred)\n",
    "        \n",
    "        plt.figure(figsize = (10, 8))\n",
    "        colors = [\"orange\", \"green\"]\n",
    "        sns.heatmap(matrix, xticklabels=self.labels, yticklabels=self.labels, cmap=colors, annot=True, fmt=\"d\")\n",
    "        plt.title(\"Confusion Matrix\")\n",
    "        plt.ylabel(\"Actual\")\n",
    "        plt.xlabel(\"Predicted\")\n",
    "        plt.show()\n",
    "        \n",
    "    def draw_anomaly(self, y, error, threshold):\n",
    "        groupsDF = pd.DataFrame({\"error\": error, \"true\": y}).groupby(\"true\")\n",
    "        \n",
    "        figures, axes = plt.subplots(figsize=(12, 8))\n",
    "        \n",
    "        for name, group in groupsDF:\n",
    "            axes.plot(group.index, group.error, marker='x' if name == 1 else 'o', linestyle='',\n",
    "                     color='r' if name == 1 else 'g', label = \"Anomaly\" if name == 1 else \"Normal\")\n",
    "            \n",
    "        axes.hlines(threshold, axes.get_xlim()[0], axes.get_xlim()[1], colors='b', zorder=100, label=\"Threshold\")\n",
    "        axes.legend()\n",
    "            \n",
    "        plt.title(\"Anomalies\")\n",
    "        plt.ylabel(\"Error\")\n",
    "        plt.xlabel(\"Data\")\n",
    "        plt.show()\n",
    "            \n",
    "    \n",
    "    def draw_error(self, error, threshold):\n",
    "        plt.plot(error, marker='o', ms=3.5, linestyle='', label='Point')\n",
    "        \n",
    "        plt.hlines(threshold, xmin=0, xmax=len(error) - 1, colors='b', zorder=100, label=\"Threshold\")\n",
    "        plt.legend()\n",
    "        plt.title(\"Reconstruction error\")\n",
    "        plt.ylabel(\"Error\")\n",
    "        plt.xlabel(\"Data\")\n",
    "        plt.show()"
   ]
  },
  {
   "cell_type": "code",
   "execution_count": 19,
   "metadata": {},
   "outputs": [
    {
     "data": {
      "image/png": "[encoded data removed]",
      "text/plain": [
       "<Figure size 720x576 with 2 Axes>"
      ]
     },
     "metadata": {
      "needs_background": "light"
     },
     "output_type": "display_data"
    }
   ],
   "source": [
    "vis = Visualization()\n",
    "\n",
    "vis.draw_confusion_matrix(y_test, y_label)\n"
   ]
  },
  {
   "cell_type": "code",
   "execution_count": 20,
   "metadata": {},
   "outputs": [
    {
     "data": {
      "image/png": "[encoded data removed]",
      "text/plain": [
       "<Figure size 864x576 with 1 Axes>"
      ]
     },
     "metadata": {
      "needs_background": "light"
     },
     "output_type": "display_data"
    }
   ],
   "source": [
    "vis.draw_anomaly(y_test, error, threshold)"
   ]
  },
  {
   "cell_type": "code",
   "execution_count": null,
   "metadata": {},
   "outputs": [],
   "source": []
  }
 ],
 "metadata": {
  "kernelspec": {
   "display_name": "Python 3",
   "language": "python",
   "name": "python3"
  },
  "language_info": {
   "codemirror_mode": {
    "name": "ipython",
    "version": 3
   },
   "file_extension": ".py",
   "mimetype": "text/x-python",
   "name": "python",
   "nbconvert_exporter": "python",
   "pygments_lexer": "ipython3",
   "version": "3.6.8"
  }
 },
 "nbformat": 4,
 "nbformat_minor": 2
}
